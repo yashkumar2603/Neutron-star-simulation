{
 "cells": [
  {
   "cell_type": "code",
   "execution_count": null,
   "metadata": {},
   "outputs": [],
   "source": [
    "import numpy as np\n",
    "import matplotlib.pyplot as plt\n",
    "import pandas as pd"
   ]
  },
  {
   "cell_type": "code",
   "execution_count": null,
   "metadata": {},
   "outputs": [],
   "source": [
    "# Constants\n",
    "c = 2.99e+8  # speed of light in m/s\n",
    "G = 6.67259e-11  # gravitational constant in m^3/(kg*s)\n",
    "π = 3.141592653589793\n",
    "M0 = 1.99e+30  # solar mass in kg"
   ]
  },
  {
   "cell_type": "code",
   "execution_count": null,
   "metadata": {},
   "outputs": [],
   "source": [
    "Rss = (2 * G * M0) / (c ** 2)  # Schwarzschild radius in meters\n",
    "ε0 = (M0 * (c ** 2)) / (4 / 3 * π * (Rss ** 3))  # energy density"
   ]
  },
  {
   "cell_type": "code",
   "execution_count": null,
   "metadata": {},
   "outputs": [],
   "source": [
    "# User input: Choose the model type (TOV or Classical)\n",
    "Model_type = input(\"Please input model type (TOV or Classical): \").upper()"
   ]
  },
  {
   "cell_type": "code",
   "execution_count": null,
   "metadata": {},
   "outputs": [],
   "source": [
    "# Functions\n",
    "def dr_dr():\n",
    "    return 1 / 100  # small step for dimensionless radius\n",
    "\n",
    "def dm_dr(r, ε):\n",
    "    return (r ** 2) * ε  # mass function\n",
    "\n",
    "def dp_dr(ε, m, r, p, model):\n",
    "    if model == \"TOV\":\n",
    "        return (-0.5 * (ε * m) / (r ** 2)) * (1 + p / ε) * (1 + ((r ** 3) * p) / m) * ((1 - m / r) ** -1)\n",
    "    else:\n",
    "        return (-0.5 * (ε * m) / (r ** 2))  # classical model\n",
    "\n",
    "def p_(ε):  # Equation of state (without 1/3 scaling)\n",
    "    return ε - 1.0e-1"
   ]
  },
  {
   "cell_type": "code",
   "execution_count": null,
   "metadata": {},
   "outputs": [],
   "source": [
    "# Arrays for storing data\n",
    "Data1 = []\n",
    "ɛ_c = 0.09  # initial energy density\n",
    "\n",
    "# Loop for the simulation\n",
    "while ɛ_c < 0.5:\n",
    "    ɛ_c *= 1.01\n",
    "    R = 0\n",
    "    M = 0\n",
    "    P = p_(ɛ_c)\n",
    "    ε = ɛ_c\n",
    "\n",
    "    while P > 0:\n",
    "        R += dr_dr()\n",
    "        M += (dm_dr(R, ε)) * dr_dr()\n",
    "        P += (dp_dr(ɛ_c, M, R, P, Model_type)) * dr_dr()\n",
    "        ε = (P + 1.0e-1)\n",
    "\n",
    "    Data1.append([ɛ_c, R, M, p_(ɛ_c)])"
   ]
  },
  {
   "cell_type": "code",
   "execution_count": null,
   "metadata": {},
   "outputs": [],
   "source": [
    "# Convert data into numpy array\n",
    "Data1 = np.array(Data1)"
   ]
  },
  {
   "cell_type": "code",
   "execution_count": null,
   "metadata": {},
   "outputs": [],
   "source": [
    "# Plot mass vs radius\n",
    "plt.plot(Data1.T[1], Data1.T[2])\n",
    "plt.title(\"Mass vs. Radius\")\n",
    "plt.xlabel(\"Radius (dimensionless)\")\n",
    "plt.ylabel(\"Mass (dimensionless)\")\n",
    "plt.show()"
   ]
  },
  {
   "cell_type": "code",
   "execution_count": null,
   "metadata": {},
   "outputs": [],
   "source": [
    "# Plot pressure vs radius\n",
    "plt.plot(Data1.T[1], Data1.T[3])\n",
    "plt.title(\"Pressure vs. Radius\")\n",
    "plt.xlabel(\"Radius (dimensionless)\")\n",
    "plt.ylabel(\"Pressure (dimensionless)\")\n",
    "plt.show()"
   ]
  },
  {
   "cell_type": "code",
   "execution_count": null,
   "metadata": {},
   "outputs": [],
   "source": [
    "# Save data to Excel file\n",
    "df = pd.DataFrame(Data1, columns=[\"Energy Density\", \"Radius\", \"Mass\", \"Pressure\"])\n",
    "df.to_excel(\"neutron_star_simulation_results.xlsx\")"
   ]
  },
  {
   "cell_type": "code",
   "execution_count": null,
   "metadata": {},
   "outputs": [],
   "source": [
    "# Print final results\n",
    "final_row = Data1[-1]\n",
    "Energydensity_f = final_row[0] * ε0\n",
    "Radius_f = final_row[1] * Rss\n",
    "Mass_f = final_row[2]\n",
    "Pressure_f = final_row[3] * ε0"
   ]
  },
  {
   "cell_type": "code",
   "execution_count": null,
   "metadata": {},
   "outputs": [],
   "source": [
    "print(f\"Final Results:\\nEnergy Density = {Energydensity_f} N\\nRadius = {Radius_f} m\\nMass = {Mass_f} M0\\nPressure = {Pressure_f} N/m^2\")"
   ]
  }
 ],
 "metadata": {
  "language_info": {
   "name": "python"
  }
 },
 "nbformat": 4,
 "nbformat_minor": 2
}
